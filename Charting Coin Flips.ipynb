{
 "cells": [
  {
   "cell_type": "code",
   "execution_count": 186,
   "metadata": {
    "collapsed": true
   },
   "outputs": [],
   "source": [
    "import random\n",
    "from statistics import stdev, pstdev, mean\n",
    "import numpy as np\n",
    "import math\n",
    "import matplotlib.pyplot as plt"
   ]
  },
  {
   "cell_type": "code",
   "execution_count": 187,
   "metadata": {
    "collapsed": true
   },
   "outputs": [],
   "source": [
    "%matplotlib inline"
   ]
  },
  {
   "cell_type": "code",
   "execution_count": 188,
   "metadata": {
    "collapsed": false
   },
   "outputs": [],
   "source": [
    "def the_coin():\n",
    "    return random.randint(1,2)"
   ]
  },
  {
   "cell_type": "code",
   "execution_count": 189,
   "metadata": {
    "collapsed": true
   },
   "outputs": [],
   "source": [
    "def coin_flipping(n=16):\n",
    "    heads = 0\n",
    "    tails = 0\n",
    "    count = 0\n",
    "    total_heads = []\n",
    "    total_tails = []\n",
    "    \n",
    "    while count < 2**n:\n",
    "        the_flip = the_coin()\n",
    "        if the_flip == 1:\n",
    "            heads += 1\n",
    "            count += 1\n",
    "        else:\n",
    "            tails += 1\n",
    "            count += 1\n",
    "        for i in range(n + 1):\n",
    "            if count == 2**i:\n",
    "                total_heads.append(heads)\n",
    "                total_tails.append(tails)\n",
    "    return total_heads, total_tails"
   ]
  },
  {
   "cell_type": "code",
   "execution_count": 190,
   "metadata": {
    "collapsed": true
   },
   "outputs": [],
   "source": [
    "heads, tails = coin_flipping()"
   ]
  },
  {
   "cell_type": "code",
   "execution_count": 191,
   "metadata": {
    "collapsed": false
   },
   "outputs": [
    {
     "name": "stdout",
     "output_type": "stream",
     "text": [
      "[0, 1, 2, 6, 11, 19, 34, 62, 117, 243, 477, 988, 1998, 4096, 8294, 16479, 32699] [1, 1, 2, 2, 5, 13, 30, 66, 139, 269, 547, 1060, 2098, 4096, 8090, 16289, 32837]\n"
     ]
    }
   ],
   "source": [
    "print(heads, tails)"
   ]
  },
  {
   "cell_type": "code",
   "execution_count": 192,
   "metadata": {
    "collapsed": false
   },
   "outputs": [
    {
     "data": {
      "text/plain": [
       "0.9997101228163857"
      ]
     },
     "execution_count": 192,
     "metadata": {},
     "output_type": "execute_result"
    }
   ],
   "source": [
    "sum(heads) / sum(tails)"
   ]
  },
  {
   "cell_type": "code",
   "execution_count": 193,
   "metadata": {
    "collapsed": false
   },
   "outputs": [],
   "source": [
    "diff = [tails[i] - heads[i] for i in range(len(heads))]"
   ]
  },
  {
   "cell_type": "code",
   "execution_count": 194,
   "metadata": {
    "collapsed": false
   },
   "outputs": [
    {
     "name": "stdout",
     "output_type": "stream",
     "text": [
      "[1, 0, 0, -4, -6, -6, -4, 4, 22, 26, 70, 72, 100, 0, -204, -190, 138]\n"
     ]
    }
   ],
   "source": [
    "print(diff)"
   ]
  },
  {
   "cell_type": "markdown",
   "metadata": {},
   "source": [
    "# Line Plot"
   ]
  },
  {
   "cell_type": "code",
   "execution_count": 195,
   "metadata": {
    "collapsed": false
   },
   "outputs": [
    {
     "data": {
      "image/png": "[encoded data removed]",
      "text/plain": [
       "<matplotlib.figure.Figure at 0x1107d0f98>"
      ]
     },
     "metadata": {},
     "output_type": "display_data"
    }
   ],
   "source": [
    "x = diff\n",
    "y = 16\n",
    "plt.plot(x)\n",
    "plt.xlabel(\"Total Flips\")\n",
    "plt.ylabel(\"Heads or Tails\")\n",
    "plt.title(\"Differences of Flips\")\n",
    "plt.show()"
   ]
  },
  {
   "cell_type": "code",
   "execution_count": 196,
   "metadata": {
    "collapsed": true
   },
   "outputs": [],
   "source": [
    "# The difference is about even until 2**14th"
   ]
  },
  {
   "cell_type": "markdown",
   "metadata": {},
   "source": [
    "# Ratio of Heads to Tails"
   ]
  },
  {
   "cell_type": "code",
   "execution_count": 197,
   "metadata": {
    "collapsed": false
   },
   "outputs": [],
   "source": [
    "ratio = [heads[i] / tails[i] for i in range(len(heads))]"
   ]
  },
  {
   "cell_type": "code",
   "execution_count": 198,
   "metadata": {
    "collapsed": false
   },
   "outputs": [
    {
     "name": "stdout",
     "output_type": "stream",
     "text": [
      "[0.0, 1.0, 1.0, 3.0, 2.2, 1.4615384615384615, 1.1333333333333333, 0.9393939393939394, 0.841726618705036, 0.9033457249070632, 0.8720292504570384, 0.9320754716981132, 0.9523355576739753, 1.0, 1.0252163164400494, 1.011664313340291, 0.9957974236379694]\n"
     ]
    }
   ],
   "source": [
    "print(ratio)"
   ]
  },
  {
   "cell_type": "code",
   "execution_count": 199,
   "metadata": {
    "collapsed": false
   },
   "outputs": [
    {
     "data": {
      "image/png": "[encoded data removed]",
      "text/plain": [
       "<matplotlib.figure.Figure at 0x11016c630>"
      ]
     },
     "metadata": {},
     "output_type": "display_data"
    }
   ],
   "source": [
    "y = ratio\n",
    "x = 16\n",
    "plt.plot(y)\n",
    "plt.xlabel(\"Number of Flips\")\n",
    "plt.ylabel(\"The Ratios\")\n",
    "plt.title(\"Ratios of Head to Tails\")\n",
    "plt.show()"
   ]
  },
  {
   "cell_type": "code",
   "execution_count": 200,
   "metadata": {
    "collapsed": true
   },
   "outputs": [],
   "source": [
    "# The ratio evens out around 2**10th"
   ]
  },
  {
   "cell_type": "markdown",
   "metadata": {
    "collapsed": true
   },
   "source": [
    "#Scatter Plot"
   ]
  },
  {
   "cell_type": "code",
   "execution_count": 201,
   "metadata": {
    "collapsed": false
   },
   "outputs": [
    {
     "data": {
      "image/png": "[encoded data removed]",
      "text/plain": [
       "<matplotlib.figure.Figure at 0x110188d68>"
      ]
     },
     "metadata": {},
     "output_type": "display_data"
    }
   ],
   "source": [
    "plt.scatter(range(1,18), diff)\n",
    "plt.xscale('log')"
   ]
  },
  {
   "cell_type": "code",
   "execution_count": 202,
   "metadata": {
    "collapsed": false
   },
   "outputs": [
    {
     "data": {
      "image/png": "[encoded data removed]",
      "text/plain": [
       "<matplotlib.figure.Figure at 0x11009a7f0>"
      ]
     },
     "metadata": {},
     "output_type": "display_data"
    }
   ],
   "source": [
    "plt.scatter(range(1,18), ratio)\n",
    "plt.xscale('log')"
   ]
  },
  {
   "cell_type": "markdown",
   "metadata": {},
   "source": [
    "# Now lets run 20 trials of 2**16!"
   ]
  },
  {
   "cell_type": "code",
   "execution_count": 245,
   "metadata": {
    "collapsed": false
   },
   "outputs": [],
   "source": [
    "def coin_flipping_trial(n=16):\n",
    "    heads = 0\n",
    "    tails = 0\n",
    "    count = 0\n",
    "    total_heads = []\n",
    "    total_tails = []\n",
    "    \n",
    "    while count < 2**n:\n",
    "        the_flip = the_coin()\n",
    "        if the_flip == 1:\n",
    "            heads += 1\n",
    "            count += 1\n",
    "        else:\n",
    "            tails += 1\n",
    "            count += 1\n",
    "        for i in range(n + 1):\n",
    "            if count == 2**i:\n",
    "                total_heads.append(heads)\n",
    "                total_tails.append(tails)\n",
    "        arrg = np.array([total_heads, total_tails])\n",
    "        \n",
    "    trial_std = np.std(arrg)\n",
    "        \n",
    "\n",
    "    return trial_std\n"
   ]
  },
  {
   "cell_type": "code",
   "execution_count": 246,
   "metadata": {
    "collapsed": false
   },
   "outputs": [],
   "source": [
    "trial_results = []\n",
    "trials_mean = []\n",
    "trials_stdev = []\n",
    "counts = 0\n",
    "while counts < 20:\n",
    "    coin_flipping_trial()\n",
    "    trial_results.append(coin_flipping_trial())\n",
    "    counts += 1\n",
    "    \n"
   ]
  },
  {
   "cell_type": "code",
   "execution_count": 232,
   "metadata": {
    "collapsed": false
   },
   "outputs": [
    {
     "data": {
      "image/png": "[encoded data removed]",
      "text/plain": [
       "<matplotlib.figure.Figure at 0x110563b70>"
      ]
     },
     "metadata": {},
     "output_type": "display_data"
    }
   ],
   "source": [
    "plt.scatter(range(0,20), trial_results)\n",
    "plt.xscale('log')\n",
    "plt.xlabel(\"Number of Flips\")\n",
    "plt.ylabel(\"The Ratios\")\n",
    "plt.title(\"Ratios of Head to Tails 20 Trials\")\n",
    "plt.show()"
   ]
  },
  {
   "cell_type": "code",
   "execution_count": 248,
   "metadata": {
    "collapsed": false
   },
   "outputs": [
    {
     "data": {
      "image/png": "[encoded data removed]",
      "text/plain": [
       "<matplotlib.figure.Figure at 0x11098f550>"
      ]
     },
     "metadata": {},
     "output_type": "display_data"
    }
   ],
   "source": [
    "plt.scatter(range(0,20), trial_results)\n",
    "plt.xscale('log')\n",
    "plt.xlabel(\"Number of Flips\")\n",
    "plt.ylabel(\"Stdev\")\n",
    "plt.title(\"Stdev of Head to Tails 20 Trials\")\n",
    "plt.show()"
   ]
  },
  {
   "cell_type": "code",
   "execution_count": 268,
   "metadata": {
    "collapsed": true
   },
   "outputs": [],
   "source": [
    "def coin_flips(num):\n",
    "    \n",
    "    heads = 0\n",
    "    tails = 0\n",
    "    \n",
    "    for _ in range(num):\n",
    "        if the_coin() == 1:\n",
    "            heads += 1\n",
    "        else:\n",
    "            tails += 1\n",
    "    \n",
    "    return heads/tails"
   ]
  },
  {
   "cell_type": "code",
   "execution_count": 291,
   "metadata": {
    "collapsed": false
   },
   "outputs": [],
   "source": [
    "trials_100 = []\n",
    "for i in range(0,100000):\n",
    "    trials_100.append(coin_flips(100))"
   ]
  },
  {
   "cell_type": "code",
   "execution_count": 292,
   "metadata": {
    "collapsed": false
   },
   "outputs": [
    {
     "data": {
      "text/plain": [
       "(array([  1.05500000e+03,   2.31480000e+04,   4.48670000e+04,\n",
       "          2.42820000e+04,   4.93300000e+03,   1.53700000e+03,\n",
       "          1.37000000e+02,   3.60000000e+01,   3.00000000e+00,\n",
       "          2.00000000e+00]),\n",
       " array([ 0.4084507,  0.637976 ,  0.8675013,  1.0970266,  1.3265519,\n",
       "         1.5560772,  1.7856025,  2.0151278,  2.2446531,  2.4741784,\n",
       "         2.7037037]),\n",
       " <a list of 10 Patch objects>)"
      ]
     },
     "execution_count": 292,
     "metadata": {},
     "output_type": "execute_result"
    },
    {
     "data": {
      "image/png": "[encoded data removed]",
      "text/plain": [
       "<matplotlib.figure.Figure at 0x111b32b38>"
      ]
     },
     "metadata": {},
     "output_type": "display_data"
    }
   ],
   "source": [
    "plt.hist(trials_100)"
   ]
  },
  {
   "cell_type": "code",
   "execution_count": 272,
   "metadata": {
    "collapsed": false
   },
   "outputs": [],
   "source": [
    "trials_1000 = []\n",
    "for i in range(0,100000):\n",
    "    trials_1000.append(coin_flips(1000))"
   ]
  },
  {
   "cell_type": "code",
   "execution_count": 274,
   "metadata": {
    "collapsed": false
   },
   "outputs": [
    {
     "data": {
      "text/plain": [
       "(array([  6.30000000e+01,   1.15000000e+03,   9.69100000e+03,\n",
       "          2.77670000e+04,   3.17270000e+04,   2.08260000e+04,\n",
       "          7.35500000e+03,   1.25200000e+03,   1.56000000e+02,\n",
       "          1.30000000e+01]),\n",
       " array([ 0.75746924,  0.8132038 ,  0.86893836,  0.92467292,  0.98040747,\n",
       "         1.03614203,  1.09187659,  1.14761114,  1.2033457 ,  1.25908026,\n",
       "         1.31481481]),\n",
       " <a list of 10 Patch objects>)"
      ]
     },
     "execution_count": 274,
     "metadata": {},
     "output_type": "execute_result"
    },
    {
     "data": {
      "image/png": "[encoded data removed]",
      "text/plain": [
       "<matplotlib.figure.Figure at 0x110f12cc0>"
      ]
     },
     "metadata": {},
     "output_type": "display_data"
    }
   ],
   "source": [
    "plt.hist(trials_1000)"
   ]
  },
  {
   "cell_type": "code",
   "execution_count": 280,
   "metadata": {
    "collapsed": false
   },
   "outputs": [
    {
     "data": {
      "image/png": "[encoded data removed]",
      "text/plain": [
       "<matplotlib.figure.Figure at 0x1104e59e8>"
      ]
     },
     "metadata": {},
     "output_type": "display_data"
    }
   ],
   "source": [
    "plt.boxplot([trials_100, trials_1000])\n",
    "plt.title(\"Ratio of flips\")\n",
    "plt.ylabel(\"Ratio of Heads to Tails\")\n",
    "plt.xticks((1,2),[\"100 Flips\", \"1000 Flips\"])\n",
    "plt.show()"
   ]
  },
  {
   "cell_type": "markdown",
   "metadata": {},
   "source": [
    "# Ok so it is just like we thought it would be. The ratio of Heads to Tails is right around 1 and as we run more trials it get even closer to a 1 for 1 ratio which is pretty visible in our box plots."
   ]
  }
 ],
 "metadata": {
  "kernelspec": {
   "display_name": "Python 3",
   "language": "python",
   "name": "python3"
  },
  "language_info": {
   "codemirror_mode": {
    "name": "ipython",
    "version": 3
   },
   "file_extension": ".py",
   "mimetype": "text/x-python",
   "name": "python",
   "nbconvert_exporter": "python",
   "pygments_lexer": "ipython3",
   "version": "3.4.3"
  }
 },
 "nbformat": 4,
 "nbformat_minor": 0
}
