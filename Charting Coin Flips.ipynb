{
 "cells": [
  {
   "cell_type": "code",
   "execution_count": 65,
   "metadata": {
    "collapsed": true
   },
   "outputs": [],
   "source": [
    "import random\n",
    "from statistics import stdev, pstdev, mean\n",
    "import math\n",
    "import matplotlib.pyplot as plt"
   ]
  },
  {
   "cell_type": "code",
   "execution_count": 66,
   "metadata": {
    "collapsed": true
   },
   "outputs": [],
   "source": [
    "%matplotlib inline"
   ]
  },
  {
   "cell_type": "code",
   "execution_count": 67,
   "metadata": {
    "collapsed": false
   },
   "outputs": [],
   "source": [
    "def the_coin():\n",
    "    return random.randint(1,2)"
   ]
  },
  {
   "cell_type": "code",
   "execution_count": 82,
   "metadata": {
    "collapsed": true
   },
   "outputs": [],
   "source": [
    "def coin_flipping(n=16):\n",
    "    heads = 0\n",
    "    tails = 0\n",
    "    count = 0\n",
    "    total_heads = []\n",
    "    total_tails = []\n",
    "    \n",
    "    while count < 2**n:\n",
    "        the_flip = the_coin()\n",
    "        if the_flip == 1:\n",
    "            heads += 1\n",
    "            count += 1\n",
    "        else:\n",
    "            tails += 1\n",
    "            count += 1\n",
    "        for i in range(n + 1):\n",
    "            if count == 2**i:\n",
    "                total_heads.append(heads)\n",
    "                total_tails.append(tails)\n",
    "    return total_heads, total_tails"
   ]
  },
  {
   "cell_type": "code",
   "execution_count": 120,
   "metadata": {
    "collapsed": true
   },
   "outputs": [],
   "source": [
    "heads, tails = coin_flipping()"
   ]
  },
  {
   "cell_type": "code",
   "execution_count": 121,
   "metadata": {
    "collapsed": false
   },
   "outputs": [
    {
     "name": "stdout",
     "output_type": "stream",
     "text": [
      "[0, 1, 1, 2, 8, 15, 35, 63, 122, 262, 502, 987, 2057, 4056, 8150, 16297, 32624] [1, 1, 3, 6, 8, 17, 29, 65, 134, 250, 522, 1061, 2039, 4136, 8234, 16471, 32912]\n"
     ]
    }
   ],
   "source": [
    "print(heads, tails)"
   ]
  },
  {
   "cell_type": "code",
   "execution_count": 103,
   "metadata": {
    "collapsed": false
   },
   "outputs": [],
   "source": [
    "diff = [heads[i] - tails[i] for i in range(len(heads))]"
   ]
  },
  {
   "cell_type": "code",
   "execution_count": 104,
   "metadata": {
    "collapsed": false
   },
   "outputs": [
    {
     "name": "stdout",
     "output_type": "stream",
     "text": [
      "[-1, 0, 0, -2, 0, 2, -8, -2, -10, 18, 8, -40, 18, -10, 50, 202, 404]\n"
     ]
    }
   ],
   "source": [
    "print(diff)"
   ]
  },
  {
   "cell_type": "markdown",
   "metadata": {},
   "source": [
    "# Line Plot"
   ]
  },
  {
   "cell_type": "code",
   "execution_count": 105,
   "metadata": {
    "collapsed": false
   },
   "outputs": [
    {
     "data": {
      "image/png": "[encoded data removed]",
      "text/plain": [
       "<matplotlib.figure.Figure at 0x1112e7128>"
      ]
     },
     "metadata": {},
     "output_type": "display_data"
    }
   ],
   "source": [
    "x = diff\n",
    "y = 17\n",
    "plt.plot(x)\n",
    "plt.xticks(range(17))\n",
    "plt.xlabel(\"Total Flips\")\n",
    "plt.ylabel(\"Heads or Tails\")\n",
    "plt.title(\"Differences of Flips\")\n",
    "plt.show()"
   ]
  },
  {
   "cell_type": "markdown",
   "metadata": {},
   "source": [
    "# Ratio of Heads to Tails"
   ]
  },
  {
   "cell_type": "code",
   "execution_count": 130,
   "metadata": {
    "collapsed": false
   },
   "outputs": [],
   "source": [
    "ratio = [heads[i] / tails[i] for i in range(len(heads))]"
   ]
  },
  {
   "cell_type": "code",
   "execution_count": 131,
   "metadata": {
    "collapsed": false
   },
   "outputs": [
    {
     "name": "stdout",
     "output_type": "stream",
     "text": [
      "[0.0, 1.0, 0.3333333333333333, 0.3333333333333333, 1.0, 0.8823529411764706, 1.206896551724138, 0.9692307692307692, 0.9104477611940298, 1.048, 0.9616858237547893, 0.9302544769085768, 1.0088278567925453, 0.9806576402321083, 0.98979839689094, 0.9894359783862546, 0.9912493923189111]\n"
     ]
    }
   ],
   "source": [
    "print(ratio)"
   ]
  },
  {
   "cell_type": "code",
   "execution_count": 132,
   "metadata": {
    "collapsed": false
   },
   "outputs": [
    {
     "data": {
      "image/png": "[encoded data removed]",
      "text/plain": [
       "<matplotlib.figure.Figure at 0x111653940>"
      ]
     },
     "metadata": {},
     "output_type": "display_data"
    }
   ],
   "source": [
    "y = ratio\n",
    "x = 17\n",
    "plt.plot(y)\n",
    "plt.xlabel(\"Number of Flips\")\n",
    "plt.ylabel(\"The Ratios\")\n",
    "plt.title(\"Ratios of Head to Tails\")\n",
    "plt.show()"
   ]
  },
  {
   "cell_type": "code",
   "execution_count": null,
   "metadata": {
    "collapsed": true
   },
   "outputs": [],
   "source": []
  }
 ],
 "metadata": {
  "kernelspec": {
   "display_name": "Python 3",
   "language": "python",
   "name": "python3"
  },
  "language_info": {
   "codemirror_mode": {
    "name": "ipython",
    "version": 3
   },
   "file_extension": ".py",
   "mimetype": "text/x-python",
   "name": "python",
   "nbconvert_exporter": "python",
   "pygments_lexer": "ipython3",
   "version": "3.4.3"
  }
 },
 "nbformat": 4,
 "nbformat_minor": 0
}
